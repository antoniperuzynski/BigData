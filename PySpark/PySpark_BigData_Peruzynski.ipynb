{
 "cells": [
  {
   "cell_type": "markdown",
   "id": "536dd1f6",
   "metadata": {},
   "source": [
    "### Laboratorium Big Data\n",
    "<i> Antoni Perużyński </i>"
   ]
  },
  {
   "cell_type": "markdown",
   "id": "0faa9187",
   "metadata": {},
   "source": [
    "**Zaliczenie części Wprowadzenie do Sparka**"
   ]
  },
  {
   "cell_type": "markdown",
   "id": "f2b6ed2e",
   "metadata": {},
   "source": [
    "Zbior danych to oceny filmow. Dane pochodza z projektu https://movielens.org/\n",
    "Wiecej informacji o danych mozna znalezc pod adresem: http://files.grouplens.org/datasets/movielens/ml-latest-small-README.html"
   ]
  },
  {
   "cell_type": "code",
   "execution_count": 40,
   "id": "2b2be38c",
   "metadata": {},
   "outputs": [],
   "source": [
    "import findspark\n",
    "findspark.init()\n",
    "\n",
    "from pyspark.sql import SparkSession\n",
    "spark = SparkSession.builder.appName('DataFrame_add').master('local[*]').getOrCreate()\n",
    "\n",
    "import pyspark.sql.functions as f"
   ]
  },
  {
   "cell_type": "code",
   "execution_count": 60,
   "id": "e0603f88",
   "metadata": {},
   "outputs": [],
   "source": [
    "import matplotlib.pyplot as plt"
   ]
  },
  {
   "cell_type": "code",
   "execution_count": 3,
   "id": "a631e80d",
   "metadata": {},
   "outputs": [],
   "source": [
    "data_path = 'ml-latest-small/'\n",
    "movies = spark.read.option(\"header\", \"true\").csv(data_path+'movies.csv')\n",
    "ratings = spark.read.option(\"header\", \"true\").csv(data_path+'ratings.csv')"
   ]
  },
  {
   "cell_type": "markdown",
   "id": "620da2a8",
   "metadata": {},
   "source": [
    "Do rozważenia: Zalecanym formatem przechowywania danych jest Apache Parquet.\n",
    "Wiecej o tym formacie danych mozna sie dowiedziec np. tutaj: https://parquet.apache.org/.\n",
    "W skrocie, tak strona projektu podsumowuje misje stojaca za tym formatem:\n",
    "\"We created Parquet to make the advantages of compressed, efficient columnar data representation available to any project in the Hadoop ecosystem\"."
   ]
  },
  {
   "cell_type": "markdown",
   "id": "3a873c49",
   "metadata": {},
   "source": [
    "Przyjrzyj sie danym i przeanalizuj. \n",
    "\n",
    "Sugestie:\n",
    "1. Z jakich kolumn skladaja sie wczytane powyzej zbiory?\n",
    "2. Informacje o ilu filmach znajduja sie w dostarczonym zbiorze?\n",
    "3. Oceny ilu uzytkownikow znajduja sie w zbiorze?\n",
    "4. Czy w zbiorze znajduja sie braki danych?\n",
    "5. Ile filmow nie ma ocen? Ktore filmy nie maja ocen?\n",
    "6. Ktory film ma najlepsza srednia ocen? Jesli jest takich wiele podaj ten z najwieksza liczba glosow.\n",
    "7. Jaki procent filmow ma tylko maksymalne oceny?\n",
    "8. Ktory film na najwyzsza minimalna ocene? Jesli jest takich wiele podaj ten z najwieksza liczba glosow.\n",
    "9. Jaki jest rozklad ocen?\n",
    "10. Ile jest filmow zaklasyfikowanych jako dokumentalne 'documentary'?\n",
    "11. Ktory z filmow dokumentalnych z conajmniej 10 glosami ma najwysza srednia ocene?\n",
    "12. Jakie sa roznice pomiedzy liczba ocen w zbiorze z roku na rok? Zaloz, ze timestamp reprezentuje liczbe sekund od roku 1960.\n",
    "13. Ile srednio kategorii przypisanych jest do 1 filmu? Ktory film ma najwiecej kategorii (+co to za kategorie)?"
   ]
  },
  {
   "cell_type": "markdown",
   "id": "644ab3a6",
   "metadata": {},
   "source": [
    "### 1. Z jakich kolumn skladaja sie wczytane powyzej zbiory?"
   ]
  },
  {
   "cell_type": "code",
   "execution_count": 5,
   "id": "9eea5f34",
   "metadata": {},
   "outputs": [
    {
     "data": {
      "text/plain": [
       "['movieId', 'title', 'genres']"
      ]
     },
     "execution_count": 5,
     "metadata": {},
     "output_type": "execute_result"
    }
   ],
   "source": [
    "movies.columns"
   ]
  },
  {
   "cell_type": "code",
   "execution_count": 6,
   "id": "83d2c1bb",
   "metadata": {},
   "outputs": [
    {
     "data": {
      "text/plain": [
       "['userId', 'movieId', 'rating', 'timestamp']"
      ]
     },
     "execution_count": 6,
     "metadata": {},
     "output_type": "execute_result"
    }
   ],
   "source": [
    "ratings.columns"
   ]
  },
  {
   "cell_type": "markdown",
   "id": "59a1e605",
   "metadata": {},
   "source": [
    "### 2. Informacje o ilu filmach znajduja sie w dostarczonym zbiorze?"
   ]
  },
  {
   "cell_type": "code",
   "execution_count": 8,
   "id": "36b176eb",
   "metadata": {},
   "outputs": [
    {
     "name": "stdout",
     "output_type": "stream",
     "text": [
      "+-----+\n",
      "|count|\n",
      "+-----+\n",
      "| 9742|\n",
      "+-----+\n",
      "\n"
     ]
    }
   ],
   "source": [
    "movies.groupBy().count().show()"
   ]
  },
  {
   "cell_type": "code",
   "execution_count": 9,
   "id": "cb58d2ff",
   "metadata": {},
   "outputs": [
    {
     "name": "stdout",
     "output_type": "stream",
     "text": [
      "+-----+\n",
      "|count|\n",
      "+-----+\n",
      "| 9742|\n",
      "+-----+\n",
      "\n"
     ]
    }
   ],
   "source": [
    "movies.groupBy().count().show()"
   ]
  },
  {
   "cell_type": "markdown",
   "id": "52fae514",
   "metadata": {},
   "source": [
    "### 3. Oceny ilu uzytkownikow znajduja sie w zbiorze?"
   ]
  },
  {
   "cell_type": "code",
   "execution_count": 15,
   "id": "d9deba44",
   "metadata": {},
   "outputs": [
    {
     "data": {
      "text/plain": [
       "610"
      ]
     },
     "execution_count": 15,
     "metadata": {},
     "output_type": "execute_result"
    }
   ],
   "source": [
    "df = ratings.groupBy('userId').count()\n",
    "df.count()"
   ]
  },
  {
   "cell_type": "markdown",
   "id": "b8decaa6",
   "metadata": {},
   "source": [
    "### 4. Czy w zbiorze znajduja sie braki danych?"
   ]
  },
  {
   "cell_type": "code",
   "execution_count": 22,
   "id": "9bdcfcb0",
   "metadata": {},
   "outputs": [
    {
     "name": "stdout",
     "output_type": "stream",
     "text": [
      "+------+-------+------+---------+\n",
      "|userId|movieId|rating|timestamp|\n",
      "+------+-------+------+---------+\n",
      "+------+-------+------+---------+\n",
      "\n"
     ]
    }
   ],
   "source": [
    "ratings.filter(ratings.userId.isNull() | ratings.movieId.isNull() | ratings.rating.isNull() | ratings.timestamp.isNull()).show()"
   ]
  },
  {
   "cell_type": "code",
   "execution_count": 23,
   "id": "b2dde572",
   "metadata": {},
   "outputs": [
    {
     "name": "stdout",
     "output_type": "stream",
     "text": [
      "+-------+-----+------+\n",
      "|movieId|title|genres|\n",
      "+-------+-----+------+\n",
      "+-------+-----+------+\n",
      "\n"
     ]
    }
   ],
   "source": [
    "movies.filter(movies.title.isNull() | movies.movieId.isNull() | movies.genres.isNull()).show()"
   ]
  },
  {
   "cell_type": "markdown",
   "id": "7b8bb49e",
   "metadata": {},
   "source": [
    "### 5. Ile filmow nie ma ocen? Ktore filmy nie maja ocen?"
   ]
  },
  {
   "cell_type": "code",
   "execution_count": 37,
   "id": "c845cd11",
   "metadata": {},
   "outputs": [
    {
     "data": {
      "text/plain": [
       "18"
      ]
     },
     "execution_count": 37,
     "metadata": {},
     "output_type": "execute_result"
    }
   ],
   "source": [
    "dftogether = movies.join(other=ratings, on='movieId', how='left')\n",
    "dftogether.filter(dftogether.rating.isNull()).count()"
   ]
  },
  {
   "cell_type": "code",
   "execution_count": 34,
   "id": "42d32c75",
   "metadata": {},
   "outputs": [
    {
     "name": "stdout",
     "output_type": "stream",
     "text": [
      "+-------+--------------------+--------------------+------+------+---------+\n",
      "|movieId|               title|              genres|userId|rating|timestamp|\n",
      "+-------+--------------------+--------------------+------+------+---------+\n",
      "|   1076|Innocents, The (1...|Drama|Horror|Thri...|  null|  null|     null|\n",
      "|   2939|      Niagara (1953)|      Drama|Thriller|  null|  null|     null|\n",
      "|   3338|For All Mankind (...|         Documentary|  null|  null|     null|\n",
      "|   3456|Color of Paradise...|               Drama|  null|  null|     null|\n",
      "|   4194|I Know Where I'm ...|   Drama|Romance|War|  null|  null|     null|\n",
      "|   5721|  Chosen, The (1981)|               Drama|  null|  null|     null|\n",
      "|   6668|Road Home, The (W...|       Drama|Romance|  null|  null|     null|\n",
      "|   6849|      Scrooge (1970)|Drama|Fantasy|Mus...|  null|  null|     null|\n",
      "|   7020|        Proof (1991)|Comedy|Drama|Romance|  null|  null|     null|\n",
      "|   7792|Parallax View, Th...|            Thriller|  null|  null|     null|\n",
      "|   8765|This Gun for Hire...|Crime|Film-Noir|T...|  null|  null|     null|\n",
      "|  25855|Roaring Twenties,...|Crime|Drama|Thriller|  null|  null|     null|\n",
      "|  26085|Mutiny on the Bou...|Adventure|Drama|R...|  null|  null|     null|\n",
      "|  30892|In the Realms of ...|Animation|Documen...|  null|  null|     null|\n",
      "|  32160|Twentieth Century...|              Comedy|  null|  null|     null|\n",
      "|  32371|Call Northside 77...|Crime|Drama|Film-...|  null|  null|     null|\n",
      "|  34482|Browning Version,...|               Drama|  null|  null|     null|\n",
      "|  85565|  Chalet Girl (2011)|      Comedy|Romance|  null|  null|     null|\n",
      "+-------+--------------------+--------------------+------+------+---------+\n",
      "\n"
     ]
    }
   ],
   "source": [
    "dftogether.filter(dftogether.rating.isNull()).show()"
   ]
  },
  {
   "cell_type": "markdown",
   "id": "f4b73e74",
   "metadata": {},
   "source": [
    "### 6. Ktory film ma najlepsza srednia ocen? Jesli jest takich wiele podaj ten z najwieksza liczba glosow."
   ]
  },
  {
   "cell_type": "code",
   "execution_count": 51,
   "id": "dc4e5b34",
   "metadata": {},
   "outputs": [
    {
     "name": "stdout",
     "output_type": "stream",
     "text": [
      "+--------------------+-----------+------------+\n",
      "|               title|mean_rating|votes_number|\n",
      "+--------------------+-----------+------------+\n",
      "|Enter the Void (2...|        5.0|           2|\n",
      "| Lesson Faust (1994)|        5.0|           2|\n",
      "|Jonah Who Will Be...|        5.0|           2|\n",
      "| Belle époque (1992)|        5.0|           2|\n",
      "|Heidi Fleiss: Hol...|        5.0|           2|\n",
      "|     Lamerica (1994)|        5.0|           2|\n",
      "|Come and See (Idi...|        5.0|           2|\n",
      "|George Carlin: Yo...|        5.0|           1|\n",
      "|Vacations in Pros...|        5.0|           1|\n",
      "|Tickling Giants (...|        5.0|           1|\n",
      "|English Vinglish ...|        5.0|           1|\n",
      "|      Villain (1971)|        5.0|           1|\n",
      "|Winnie the Pooh a...|        5.0|           1|\n",
      "|Paper Birds (Pája...|        5.0|           1|\n",
      "|Awfully Big Adven...|        5.0|           1|\n",
      "|         Rain (2001)|        5.0|           1|\n",
      "|    Radio Day (2008)|        5.0|           1|\n",
      "|National Lampoon'...|        5.0|           1|\n",
      "|Martin Lawrence L...|        5.0|           1|\n",
      "|Reform School Gir...|        5.0|           1|\n",
      "+--------------------+-----------+------------+\n",
      "only showing top 20 rows\n",
      "\n"
     ]
    }
   ],
   "source": [
    "df6 = dftogether.groupBy('title').agg(f.mean('rating').alias(\"mean_rating\"),\\\n",
    "                                     f.count('title').alias(\"votes_number\")).orderBy(f.desc('mean_rating'), f.desc('votes_number')).show()\n"
   ]
  },
  {
   "cell_type": "markdown",
   "id": "2544668a",
   "metadata": {},
   "source": [
    "### 7. Jaki procent filmow ma tylko maksymalne oceny?"
   ]
  },
  {
   "cell_type": "code",
   "execution_count": 57,
   "id": "37a6a98e",
   "metadata": {},
   "outputs": [
    {
     "data": {
      "text/plain": [
       "3.03839047423527"
      ]
     },
     "execution_count": 57,
     "metadata": {},
     "output_type": "execute_result"
    }
   ],
   "source": [
    "df7 = dftogether.groupBy('title').agg(f.min('rating').alias(\"min_rating\"))\n",
    "df7Only5 = df7.where(df7.min_rating ==5)\n",
    "df7Only5.count()/movies.count()*100"
   ]
  },
  {
   "cell_type": "markdown",
   "id": "dc0bf31f",
   "metadata": {},
   "source": [
    "### 8. Ktory film na najwyzsza minimalna ocene? Jesli jest takich wiele podaj ten z najwieksza liczba glosow."
   ]
  },
  {
   "cell_type": "code",
   "execution_count": 58,
   "id": "8a162e5f",
   "metadata": {},
   "outputs": [
    {
     "name": "stdout",
     "output_type": "stream",
     "text": [
      "+--------------------+----------+------------+\n",
      "|               title|min_rating|votes_number|\n",
      "+--------------------+----------+------------+\n",
      "|     Lamerica (1994)|       5.0|           2|\n",
      "|Enter the Void (2...|       5.0|           2|\n",
      "| Lesson Faust (1994)|       5.0|           2|\n",
      "|Heidi Fleiss: Hol...|       5.0|           2|\n",
      "| Belle époque (1992)|       5.0|           2|\n",
      "|Come and See (Idi...|       5.0|           2|\n",
      "|Jonah Who Will Be...|       5.0|           2|\n",
      "|Adventures Of She...|       5.0|           1|\n",
      "|Alien Contaminati...|       5.0|           1|\n",
      "|7 Faces of Dr. La...|       5.0|           1|\n",
      "| 'Salem's Lot (2004)|       5.0|           1|\n",
      "|Battle Royale 2: ...|       5.0|           1|\n",
      "|All the Vermeers ...|       5.0|           1|\n",
      "|    12 Chairs (1976)|       5.0|           1|\n",
      "|Animals are Beaut...|       5.0|           1|\n",
      "|A Detective Story...|       5.0|           1|\n",
      "|A Perfect Day (2015)|       5.0|           1|\n",
      "|    All Yours (2016)|       5.0|           1|\n",
      "|American Friend, ...|       5.0|           1|\n",
      "|Assignment, The (...|       5.0|           1|\n",
      "+--------------------+----------+------------+\n",
      "only showing top 20 rows\n",
      "\n"
     ]
    }
   ],
   "source": [
    "df6 = dftogether.groupBy('title').agg(f.min('rating').alias(\"min_rating\"),\\\n",
    "                                     f.count('title').alias(\"votes_number\")).orderBy(f.desc('min_rating'), f.desc('votes_number')).show()"
   ]
  },
  {
   "cell_type": "markdown",
   "id": "9ef956c8",
   "metadata": {},
   "source": [
    "### 9. Jaki jest rozklad ocen?"
   ]
  },
  {
   "cell_type": "code",
   "execution_count": 70,
   "id": "33578c57",
   "metadata": {},
   "outputs": [
    {
     "name": "stdout",
     "output_type": "stream",
     "text": [
      "+------+-----+\n",
      "|rating|count|\n",
      "+------+-----+\n",
      "|   0.5| 1370|\n",
      "|   1.0| 2811|\n",
      "|   1.5| 1791|\n",
      "|   2.0| 7551|\n",
      "|   2.5| 5550|\n",
      "|   3.0|20047|\n",
      "|   3.5|13136|\n",
      "|   4.0|26818|\n",
      "|   4.5| 8551|\n",
      "|   5.0|13211|\n",
      "+------+-----+\n",
      "\n"
     ]
    }
   ],
   "source": [
    "ratings.groupBy(\"rating\").count().orderBy(\"rating\").show()"
   ]
  },
  {
   "cell_type": "markdown",
   "id": "e0aed5d6",
   "metadata": {},
   "source": [
    "###  10. Ile jest filmow zaklasyfikowanych jako dokumentalne 'documentary'?"
   ]
  },
  {
   "cell_type": "code",
   "execution_count": 78,
   "id": "eab3438e",
   "metadata": {},
   "outputs": [
    {
     "data": {
      "text/plain": [
       "440"
      ]
     },
     "execution_count": 78,
     "metadata": {},
     "output_type": "execute_result"
    }
   ],
   "source": [
    "movies.where(movies.genres.like('%Documentary%')).count()"
   ]
  },
  {
   "cell_type": "markdown",
   "id": "a9e3aa24",
   "metadata": {},
   "source": [
    "### 11. Ktory z filmow dokumentalnych z conajmniej 10 glosami ma najwysza srednia ocene?"
   ]
  },
  {
   "cell_type": "code",
   "execution_count": 86,
   "id": "041c087f",
   "metadata": {},
   "outputs": [
    {
     "name": "stdout",
     "output_type": "stream",
     "text": [
      "+--------------------+------------------+------------+\n",
      "|               title|       mean_rating|votes_number|\n",
      "+--------------------+------------------+------------+\n",
      "|Fog of War: Eleve...|4.3076923076923075|          13|\n",
      "+--------------------+------------------+------------+\n",
      "only showing top 1 row\n",
      "\n"
     ]
    }
   ],
   "source": [
    "dfdocumentary = dftogether.where(dftogether.genres.like('%Documentary%'))\n",
    "dfdocumentary2 = dfdocumentary.groupBy('title').agg(f.mean('rating').alias(\"mean_rating\"),\\\n",
    "                                     f.count('title').alias(\"votes_number\")).orderBy(f.desc('mean_rating'), f.desc('votes_number'))\n",
    "dfdocumentary2.where(dfdocumentary2['votes_number']>=10).show(1)"
   ]
  },
  {
   "cell_type": "markdown",
   "id": "5cd7da52",
   "metadata": {},
   "source": [
    "### 12. Jakie sa roznice pomiedzy liczba ocen w zbiorze z roku na rok? Zaloz, ze timestamp reprezentuje liczbe sekund od roku 1960."
   ]
  },
  {
   "cell_type": "code",
   "execution_count": 103,
   "id": "6cab5277",
   "metadata": {},
   "outputs": [
    {
     "name": "stdout",
     "output_type": "stream",
     "text": [
      "+----+-----+\n",
      "|Year|count|\n",
      "+----+-----+\n",
      "|1986| 6031|\n",
      "|1987| 1925|\n",
      "|1988|  507|\n",
      "|1989| 2439|\n",
      "|1990|10061|\n",
      "|1991| 3922|\n",
      "|1992| 3478|\n",
      "|1993| 4014|\n",
      "|1994| 3274|\n",
      "|1995| 5818|\n",
      "|1996| 4059|\n",
      "|1997| 7114|\n",
      "|1998| 4345|\n",
      "|1999| 4163|\n",
      "|2000| 2302|\n",
      "|2001| 1690|\n",
      "|2002| 4656|\n",
      "|2003| 1664|\n",
      "|2004| 1439|\n",
      "|2005| 6616|\n",
      "+----+-----+\n",
      "only showing top 20 rows\n",
      "\n"
     ]
    }
   ],
   "source": [
    "df12 = ratings.withColumn(colName = 'Year', col = f.floor(1960 + ratings.timestamp / (60*60*24*365.2425)))\n",
    "df12.groupBy('Year').count().orderBy(\"Year\").show()"
   ]
  },
  {
   "cell_type": "markdown",
   "id": "28131ea9",
   "metadata": {},
   "source": [
    "### 13. Ile srednio kategorii przypisanych jest do 1 filmu? Ktory film ma najwiecej kategorii (+co to za kategorie)?"
   ]
  },
  {
   "cell_type": "code",
   "execution_count": 126,
   "id": "00a0b8e6",
   "metadata": {},
   "outputs": [
    {
     "name": "stdout",
     "output_type": "stream",
     "text": [
      "+-------+--------------------+--------------------+------------+\n",
      "|movieId|               title|              genres|genresNumber|\n",
      "+-------+--------------------+--------------------+------------+\n",
      "|      1|    Toy Story (1995)|Adventure|Animati...|        true|\n",
      "|      2|      Jumanji (1995)|Adventure|Childre...|        true|\n",
      "|      3|Grumpier Old Men ...|      Comedy|Romance|        true|\n",
      "|      4|Waiting to Exhale...|Comedy|Drama|Romance|        true|\n",
      "|      5|Father of the Bri...|              Comedy|       false|\n",
      "|      6|         Heat (1995)|Action|Crime|Thri...|        true|\n",
      "|      7|      Sabrina (1995)|      Comedy|Romance|        true|\n",
      "|      8| Tom and Huck (1995)|  Adventure|Children|        true|\n",
      "|      9| Sudden Death (1995)|              Action|       false|\n",
      "|     10|    GoldenEye (1995)|Action|Adventure|...|        true|\n",
      "|     11|American Presiden...|Comedy|Drama|Romance|        true|\n",
      "|     12|Dracula: Dead and...|       Comedy|Horror|        true|\n",
      "|     13|        Balto (1995)|Adventure|Animati...|        true|\n",
      "|     14|        Nixon (1995)|               Drama|       false|\n",
      "|     15|Cutthroat Island ...|Action|Adventure|...|        true|\n",
      "|     16|       Casino (1995)|         Crime|Drama|        true|\n",
      "|     17|Sense and Sensibi...|       Drama|Romance|        true|\n",
      "|     18|   Four Rooms (1995)|              Comedy|       false|\n",
      "|     19|Ace Ventura: When...|              Comedy|       false|\n",
      "|     20|  Money Train (1995)|Action|Comedy|Cri...|        true|\n",
      "+-------+--------------------+--------------------+------------+\n",
      "only showing top 20 rows\n",
      "\n"
     ]
    }
   ],
   "source": [
    "df12 = movies.withColumn(colName = 'genresNumber', col = movies.genres.contains(\"|\"))\n",
    "df12.show()"
   ]
  },
  {
   "cell_type": "code",
   "execution_count": 125,
   "id": "8ab93513",
   "metadata": {},
   "outputs": [
    {
     "ename": "TypeError",
     "evalue": "'Column' object is not callable",
     "output_type": "error",
     "traceback": [
      "\u001b[1;31m---------------------------------------------------------------------------\u001b[0m",
      "\u001b[1;31mTypeError\u001b[0m                                 Traceback (most recent call last)",
      "\u001b[1;32m~\\AppData\\Local\\Temp/ipykernel_12804/3419034556.py\u001b[0m in \u001b[0;36m<module>\u001b[1;34m\u001b[0m\n\u001b[1;32m----> 1\u001b[1;33m \u001b[0mdf13\u001b[0m\u001b[1;33m=\u001b[0m \u001b[0mmovies\u001b[0m\u001b[1;33m.\u001b[0m\u001b[0mwithColumn\u001b[0m\u001b[1;33m(\u001b[0m\u001b[1;34m'genresNumber'\u001b[0m\u001b[1;33m,\u001b[0m\u001b[0mf\u001b[0m\u001b[1;33m.\u001b[0m\u001b[0mlength\u001b[0m\u001b[1;33m(\u001b[0m\u001b[1;34m'genres'\u001b[0m\u001b[1;33m)\u001b[0m\u001b[1;33m)\u001b[0m \u001b[1;33m-\u001b[0m \u001b[0mf\u001b[0m\u001b[1;33m.\u001b[0m\u001b[0mlength\u001b[0m\u001b[1;33m(\u001b[0m\u001b[0mf\u001b[0m\u001b[1;33m.\u001b[0m\u001b[0mregexp_replace\u001b[0m\u001b[1;33m(\u001b[0m\u001b[1;34m'genres'\u001b[0m\u001b[1;33m,\u001b[0m \u001b[1;34m'|'\u001b[0m\u001b[1;33m,\u001b[0m \u001b[1;34m''\u001b[0m\u001b[1;33m)\u001b[0m\u001b[1;33m)\u001b[0m\u001b[1;33m.\u001b[0m\u001b[0mshow\u001b[0m\u001b[1;33m(\u001b[0m\u001b[1;33m)\u001b[0m\u001b[1;33m\u001b[0m\u001b[1;33m\u001b[0m\u001b[0m\n\u001b[0m",
      "\u001b[1;31mTypeError\u001b[0m: 'Column' object is not callable"
     ]
    }
   ],
   "source": [
    "df13= movies.withColumn('genresNumber',f.length('genres')) - f.length(f.regexp_replace('genres', '|', '')).show()"
   ]
  },
  {
   "cell_type": "code",
   "execution_count": null,
   "id": "eff085ea",
   "metadata": {},
   "outputs": [],
   "source": []
  }
 ],
 "metadata": {
  "kernelspec": {
   "display_name": "Python 3 (ipykernel)",
   "language": "python",
   "name": "python3"
  },
  "language_info": {
   "codemirror_mode": {
    "name": "ipython",
    "version": 3
   },
   "file_extension": ".py",
   "mimetype": "text/x-python",
   "name": "python",
   "nbconvert_exporter": "python",
   "pygments_lexer": "ipython3",
   "version": "3.9.7"
  }
 },
 "nbformat": 4,
 "nbformat_minor": 5
}
