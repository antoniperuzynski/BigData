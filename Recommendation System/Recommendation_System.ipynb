{
 "cells": [
  {
   "cell_type": "markdown",
   "id": "cdc623e2",
   "metadata": {},
   "source": [
    "# Laboratorium Big Data\n",
    "## Systemy rekomendacji - zadanie 2\n",
    "<i> Antoni Perużyński </i>"
   ]
  },
  {
   "cell_type": "code",
   "execution_count": 1,
   "id": "a2d2a48a",
   "metadata": {},
   "outputs": [],
   "source": [
    "import pandas as pd\n",
    "from sklearn.preprocessing  import StandardScaler"
   ]
  },
  {
   "cell_type": "code",
   "execution_count": 5,
   "id": "76d43e77",
   "metadata": {},
   "outputs": [],
   "source": [
    "import pyspark\n",
    "from pyspark.sql import SparkSession\n",
    "\n",
    "import findspark\n",
    "findspark.init()\n",
    "spark = SparkSession.builder.appName('MovieLens').getOrCreate()"
   ]
  },
  {
   "cell_type": "markdown",
   "id": "5958a991",
   "metadata": {},
   "source": [
    "Read files"
   ]
  },
  {
   "cell_type": "code",
   "execution_count": 6,
   "id": "fcc5f950",
   "metadata": {},
   "outputs": [],
   "source": [
    "user_artists = spark.read.csv(\"user_artists.dat\",sep='\\t', header=True)\n",
    "artists = spark.read.csv(\"artists.dat\",sep='\\t', header=True)\n",
    "user_artists = user_artists.withColumn(\"weight\", user_artists.weight.cast('int'))\n",
    "user_artists = user_artists.withColumn(\"userID\", user_artists.userID.cast('int'))\n",
    "user_artists = user_artists.withColumn(\"artistID\", user_artists.artistID.cast('int'))"
   ]
  },
  {
   "cell_type": "code",
   "execution_count": 7,
   "id": "aace0bca",
   "metadata": {},
   "outputs": [
    {
     "name": "stdout",
     "output_type": "stream",
     "text": [
      "+------+--------+------+\n",
      "|userID|artistID|weight|\n",
      "+------+--------+------+\n",
      "|     2|      51| 13883|\n",
      "|     2|      52| 11690|\n",
      "|     2|      53| 11351|\n",
      "|     2|      54| 10300|\n",
      "|     2|      55|  8983|\n",
      "|     2|      56|  6152|\n",
      "|     2|      57|  5955|\n",
      "|     2|      58|  4616|\n",
      "|     2|      59|  4337|\n",
      "|     2|      60|  4147|\n",
      "|     2|      61|  3923|\n",
      "|     2|      62|  3782|\n",
      "|     2|      63|  3735|\n",
      "|     2|      64|  3644|\n",
      "|     2|      65|  3579|\n",
      "|     2|      66|  3312|\n",
      "|     2|      67|  3301|\n",
      "|     2|      68|  2927|\n",
      "|     2|      69|  2720|\n",
      "|     2|      70|  2686|\n",
      "+------+--------+------+\n",
      "only showing top 20 rows\n",
      "\n"
     ]
    }
   ],
   "source": [
    "user_artists.show()"
   ]
  },
  {
   "cell_type": "markdown",
   "id": "e824b508",
   "metadata": {},
   "source": [
    "Creating extra column \"play\" which let us to predict and build recommendation. We will use recommendation using 0/1 values - whether a person has listened to a particular performer."
   ]
  },
  {
   "cell_type": "code",
   "execution_count": 25,
   "id": "8adf4c69",
   "metadata": {},
   "outputs": [
    {
     "data": {
      "text/html": [
       "<div>\n",
       "<style scoped>\n",
       "    .dataframe tbody tr th:only-of-type {\n",
       "        vertical-align: middle;\n",
       "    }\n",
       "\n",
       "    .dataframe tbody tr th {\n",
       "        vertical-align: top;\n",
       "    }\n",
       "\n",
       "    .dataframe thead th {\n",
       "        text-align: right;\n",
       "    }\n",
       "</style>\n",
       "<table border=\"1\" class=\"dataframe\">\n",
       "  <thead>\n",
       "    <tr style=\"text-align: right;\">\n",
       "      <th></th>\n",
       "      <th>userID</th>\n",
       "      <th>artistID</th>\n",
       "      <th>weight</th>\n",
       "      <th>play</th>\n",
       "    </tr>\n",
       "  </thead>\n",
       "  <tbody>\n",
       "    <tr>\n",
       "      <th>0</th>\n",
       "      <td>2</td>\n",
       "      <td>51</td>\n",
       "      <td>13883</td>\n",
       "      <td>1</td>\n",
       "    </tr>\n",
       "    <tr>\n",
       "      <th>1</th>\n",
       "      <td>2</td>\n",
       "      <td>52</td>\n",
       "      <td>11690</td>\n",
       "      <td>1</td>\n",
       "    </tr>\n",
       "    <tr>\n",
       "      <th>2</th>\n",
       "      <td>2</td>\n",
       "      <td>53</td>\n",
       "      <td>11351</td>\n",
       "      <td>1</td>\n",
       "    </tr>\n",
       "    <tr>\n",
       "      <th>3</th>\n",
       "      <td>2</td>\n",
       "      <td>54</td>\n",
       "      <td>10300</td>\n",
       "      <td>1</td>\n",
       "    </tr>\n",
       "    <tr>\n",
       "      <th>4</th>\n",
       "      <td>2</td>\n",
       "      <td>55</td>\n",
       "      <td>8983</td>\n",
       "      <td>1</td>\n",
       "    </tr>\n",
       "    <tr>\n",
       "      <th>...</th>\n",
       "      <td>...</td>\n",
       "      <td>...</td>\n",
       "      <td>...</td>\n",
       "      <td>...</td>\n",
       "    </tr>\n",
       "    <tr>\n",
       "      <th>92829</th>\n",
       "      <td>2100</td>\n",
       "      <td>18726</td>\n",
       "      <td>337</td>\n",
       "      <td>1</td>\n",
       "    </tr>\n",
       "    <tr>\n",
       "      <th>92830</th>\n",
       "      <td>2100</td>\n",
       "      <td>18727</td>\n",
       "      <td>297</td>\n",
       "      <td>1</td>\n",
       "    </tr>\n",
       "    <tr>\n",
       "      <th>92831</th>\n",
       "      <td>2100</td>\n",
       "      <td>18728</td>\n",
       "      <td>281</td>\n",
       "      <td>1</td>\n",
       "    </tr>\n",
       "    <tr>\n",
       "      <th>92832</th>\n",
       "      <td>2100</td>\n",
       "      <td>18729</td>\n",
       "      <td>280</td>\n",
       "      <td>1</td>\n",
       "    </tr>\n",
       "    <tr>\n",
       "      <th>92833</th>\n",
       "      <td>2100</td>\n",
       "      <td>18730</td>\n",
       "      <td>263</td>\n",
       "      <td>1</td>\n",
       "    </tr>\n",
       "  </tbody>\n",
       "</table>\n",
       "<p>92834 rows × 4 columns</p>\n",
       "</div>"
      ],
      "text/plain": [
       "       userID  artistID  weight  play\n",
       "0           2        51   13883     1\n",
       "1           2        52   11690     1\n",
       "2           2        53   11351     1\n",
       "3           2        54   10300     1\n",
       "4           2        55    8983     1\n",
       "...       ...       ...     ...   ...\n",
       "92829    2100     18726     337     1\n",
       "92830    2100     18727     297     1\n",
       "92831    2100     18728     281     1\n",
       "92832    2100     18729     280     1\n",
       "92833    2100     18730     263     1\n",
       "\n",
       "[92834 rows x 4 columns]"
      ]
     },
     "execution_count": 25,
     "metadata": {},
     "output_type": "execute_result"
    }
   ],
   "source": [
    "user_artists_Pandas = user_artists.toPandas()\n",
    "user_artists_Pandas[\"play\"] = 1\n",
    "user_artists_Pandas"
   ]
  },
  {
   "cell_type": "code",
   "execution_count": 28,
   "id": "ed05066d",
   "metadata": {},
   "outputs": [],
   "source": [
    "count_artistID=user_artists_Pandas.groupby(['artistID']).weight.agg('count').to_frame('counartistID').reset_index()\n",
    "\n",
    "user_artists_Pandas_with_count_artist=user_artists_Pandas.join(count_artistID.set_index(\"artistID\"), on=\"artistID\")"
   ]
  },
  {
   "cell_type": "code",
   "execution_count": 30,
   "id": "a6103aad",
   "metadata": {},
   "outputs": [],
   "source": [
    "user_artists_Pandas=user_artists_Pandas_with_count_artist"
   ]
  },
  {
   "cell_type": "markdown",
   "id": "aca4e353",
   "metadata": {},
   "source": [
    "Here is a cell with the ability to drop artists who have been featured in the dataset less than 5 times. E.g., a child may have sent his song, and his parents and family are the only people who have listened to it. Of course, it is also possible to drop new artists whose music has not yet reached the public."
   ]
  },
  {
   "cell_type": "code",
   "execution_count": 12,
   "id": "2be64e4d",
   "metadata": {},
   "outputs": [],
   "source": [
    "# user_artists_Pandas_with_count_artist_more5=user_artists_Pandas_with_count_artist[user_artists_Pandas_with_count_artist[\"counartistID\"]>10]\n",
    "# user_artists_Pandas=user_artists_Pandas_with_count_artist_more5"
   ]
  },
  {
   "cell_type": "markdown",
   "id": "902bd163",
   "metadata": {},
   "source": [
    "Crearing spark dataframe from pandas dataframe to use ALS from pyspark which give us some recommendation."
   ]
  },
  {
   "cell_type": "code",
   "execution_count": 32,
   "id": "d0f31b1b",
   "metadata": {},
   "outputs": [
    {
     "name": "stderr",
     "output_type": "stream",
     "text": [
      "C:\\Users\\DELL\\anaconda3\\lib\\site-packages\\pyspark\\sql\\pandas\\conversion.py:474: FutureWarning: iteritems is deprecated and will be removed in a future version. Use .items instead.\n",
      "  for column, series in pdf.iteritems():\n",
      "C:\\Users\\DELL\\anaconda3\\lib\\site-packages\\pyspark\\sql\\pandas\\conversion.py:486: FutureWarning: iteritems is deprecated and will be removed in a future version. Use .items instead.\n",
      "  for column, series in pdf.iteritems():\n"
     ]
    }
   ],
   "source": [
    "sparkDf = spark.createDataFrame(user_artists_Pandas)"
   ]
  },
  {
   "cell_type": "code",
   "execution_count": 33,
   "id": "f9ca58a8",
   "metadata": {},
   "outputs": [
    {
     "name": "stdout",
     "output_type": "stream",
     "text": [
      "+------+--------+------+----+------------+\n",
      "|userID|artistID|weight|play|counartistID|\n",
      "+------+--------+------+----+------------+\n",
      "|     2|      51| 13883|   1|         111|\n",
      "|     2|      52| 11690|   1|          23|\n",
      "|     2|      53| 11351|   1|          75|\n",
      "|     2|      54| 10300|   1|          18|\n",
      "|     2|      55|  8983|   1|         298|\n",
      "|     2|      56|  6152|   1|         151|\n",
      "|     2|      57|  5955|   1|          19|\n",
      "|     2|      58|  4616|   1|          82|\n",
      "|     2|      59|  4337|   1|         107|\n",
      "|     2|      60|  4147|   1|           2|\n",
      "|     2|      61|  3923|   1|          25|\n",
      "|     2|      62|  3782|   1|           3|\n",
      "|     2|      63|  3735|   1|          41|\n",
      "|     2|      64|  3644|   1|          71|\n",
      "|     2|      65|  3579|   1|         369|\n",
      "|     2|      66|  3312|   1|          19|\n",
      "|     2|      67|  3301|   1|         429|\n",
      "|     2|      68|  2927|   1|          17|\n",
      "|     2|      69|  2720|   1|          29|\n",
      "|     2|      70|  2686|   1|          85|\n",
      "+------+--------+------+----+------------+\n",
      "only showing top 20 rows\n",
      "\n"
     ]
    }
   ],
   "source": [
    "sparkDf.show()"
   ]
  },
  {
   "cell_type": "code",
   "execution_count": 34,
   "id": "6fd46de0",
   "metadata": {},
   "outputs": [
    {
     "name": "stdout",
     "output_type": "stream",
     "text": [
      " training: 64899\n",
      " test: 27935\n",
      "\n"
     ]
    }
   ],
   "source": [
    "import pyspark\n",
    "from pyspark.sql import SparkSession\n",
    "spark = SparkSession.builder.appName('MovieLens').getOrCreate()\n",
    "\n",
    "from pyspark.sql.types import *\n",
    "from pyspark.sql.functions import col\n",
    "\n",
    "\n",
    "from pyspark import SparkConf, SparkContext\n",
    "from pyspark.mllib.recommendation import ALS, MatrixFactorizationModel, Rating\n",
    "\n",
    "(ratings_train, ratings_test) = sparkDf.randomSplit([0.7,0.3], seed = 1000)\n",
    "\n",
    "print(' training: {0}\\n test: {1}\\n'\\\n",
    "  .format(ratings_train.count(),\n",
    "          ratings_test.count()\n",
    "         ))\n",
    "\n",
    "\n",
    "from pyspark.ml.recommendation import ALS\n",
    "#https://spark.apache.org/docs/2.1.0/ml-collaborative-filtering.html\n",
    "ratings_als = ALS(userCol = \"userID\",\n",
    "                  itemCol = \"artistID\",\n",
    "                  ratingCol = \"play\",\n",
    "                  rank = 10, #latent components\n",
    "                  maxIter = 10,\n",
    "                  regParam = 0.1, #regularization\n",
    "                  implicitPrefs = False, \n",
    "                  coldStartStrategy = \"drop\", \n",
    "                  )"
   ]
  },
  {
   "cell_type": "markdown",
   "id": "c4e8a9a9",
   "metadata": {},
   "source": [
    "Here we got a prediction for some 10 people"
   ]
  },
  {
   "cell_type": "code",
   "execution_count": 35,
   "id": "0fb7035f",
   "metadata": {},
   "outputs": [
    {
     "name": "stdout",
     "output_type": "stream",
     "text": [
      "+------+--------+------+----+------------+----------+\n",
      "|userID|artistID|weight|play|counartistID|prediction|\n",
      "+------+--------+------+----+------------+----------+\n",
      "|   463|    6397|    37|   1|          10| 0.9002598|\n",
      "|    85|    2366|   120|   1|           7| 0.8998237|\n",
      "|   126|    1580|   267|   1|          43|0.89969134|\n",
      "|   210|     463|   510|   1|          17| 0.9002897|\n",
      "|    12|     496|  3407|   1|          11|0.90015197|\n",
      "|   336|    5803|   386|   1|           3|  0.897562|\n",
      "|   476|    2122|   158|   1|           4|0.89997315|\n",
      "|   348|     471|    60|   1|          42|0.90017974|\n",
      "|    54|    1591|   112|   1|           3| 0.9004644|\n",
      "|   419|    3794|     7|   1|           3| 0.8995972|\n",
      "+------+--------+------+----+------------+----------+\n",
      "only showing top 10 rows\n",
      "\n"
     ]
    }
   ],
   "source": [
    "from pyspark.ml.evaluation import RegressionEvaluator\n",
    "ratings_model = ratings_als.fit(ratings_train)\n",
    "\n",
    "ratings_pred = ratings_model.transform(ratings_test)\n",
    "ratings_pred.show(10)"
   ]
  },
  {
   "cell_type": "markdown",
   "id": "be685347",
   "metadata": {},
   "source": [
    "Calculating mistake which give us some information about the goodness of the model"
   ]
  },
  {
   "cell_type": "code",
   "execution_count": 36,
   "id": "c911eadd",
   "metadata": {},
   "outputs": [
    {
     "name": "stdout",
     "output_type": "stream",
     "text": [
      "RMSE = 0.10248847153410813\n"
     ]
    }
   ],
   "source": [
    "from pyspark.ml.evaluation import RegressionEvaluator\n",
    "ratings_eval = RegressionEvaluator(metricName = \"rmse\", \n",
    "                                    labelCol = \"play\",\n",
    "                                    predictionCol = \"prediction\")\n",
    "ratings_rmse = ratings_eval.evaluate(ratings_pred)\n",
    "print(\"RMSE = \" + str(ratings_rmse))"
   ]
  },
  {
   "cell_type": "markdown",
   "id": "43874774",
   "metadata": {},
   "source": [
    "Recommendation for some users"
   ]
  },
  {
   "cell_type": "code",
   "execution_count": 37,
   "id": "b98ad273",
   "metadata": {},
   "outputs": [
    {
     "name": "stdout",
     "output_type": "stream",
     "text": [
      "+------+----------------------------------------------------------------------------------------------------+\n",
      "|userID|recommendations                                                                                     |\n",
      "+------+----------------------------------------------------------------------------------------------------+\n",
      "|12    |[{4344, 0.9054272}, {8670, 0.9050417}, {2101, 0.90460163}, {1126, 0.90374666}, {1910, 0.90306634}]  |\n",
      "|22    |[{103, 0.9075376}, {8670, 0.90601206}, {7148, 0.90586746}, {1888, 0.90547013}, {1923, 0.90533346}]  |\n",
      "|26    |[{103, 0.90829647}, {1888, 0.9075561}, {1923, 0.9054516}, {2101, 0.90533996}, {8136, 0.9051457}]    |\n",
      "|27    |[{4344, 0.90520436}, {2101, 0.90509385}, {8670, 0.90447515}, {1126, 0.90387815}, {1910, 0.9030821}] |\n",
      "|28    |[{103, 0.9057022}, {2101, 0.90532345}, {1888, 0.9049002}, {4344, 0.9041218}, {1923, 0.9038287}]     |\n",
      "|31    |[{2101, 0.9052906}, {4344, 0.9046452}, {103, 0.9043518}, {1888, 0.90395004}, {1126, 0.90382975}]    |\n",
      "|34    |[{2101, 0.90597}, {103, 0.90543634}, {8136, 0.9050935}, {1888, 0.90450525}, {1923, 0.90391755}]     |\n",
      "|44    |[{103, 0.9068471}, {2101, 0.90588015}, {1888, 0.90587944}, {8136, 0.90566695}, {1923, 0.9044675}]   |\n",
      "|47    |[{4344, 0.9062952}, {8670, 0.9032267}, {2220, 0.90149844}, {12394, 0.901489}, {892, 0.901412}]      |\n",
      "|52    |[{8670, 0.90817}, {2902, 0.9052464}, {2101, 0.9050405}, {4344, 0.90500826}, {1226, 0.90500706}]     |\n",
      "|53    |[{4344, 0.9061943}, {8670, 0.902915}, {2220, 0.9014893}, {12394, 0.90140957}, {892, 0.90131664}]    |\n",
      "|65    |[{8670, 0.90581465}, {4344, 0.9056439}, {2101, 0.90464455}, {1126, 0.90378696}, {1226, 0.9033771}]  |\n",
      "|76    |[{4344, 0.9085677}, {1888, 0.9028152}, {1910, 0.90269107}, {8670, 0.90252125}, {1923, 0.90200573}]  |\n",
      "|78    |[{103, 0.91136765}, {8136, 0.90916824}, {7148, 0.90856105}, {2101, 0.90694976}, {10358, 0.90692884}]|\n",
      "|81    |[{2253, 0.90863365}, {2232, 0.9084546}, {2237, 0.9072424}, {2227, 0.9070773}, {6108, 0.9066002}]    |\n",
      "|85    |[{103, 0.9070036}, {2101, 0.9059531}, {1888, 0.9058738}, {8136, 0.90551406}, {1923, 0.9046715}]     |\n",
      "|91    |[{103, 0.9083605}, {2101, 0.90627986}, {8136, 0.90619266}, {1888, 0.90580153}, {7148, 0.9050379}]   |\n",
      "|101   |[{8670, 0.90551907}, {4344, 0.9050621}, {2101, 0.9046993}, {1126, 0.9036469}, {1226, 0.9031907}]    |\n",
      "|103   |[{2101, 0.9055212}, {103, 0.9044923}, {8136, 0.9043337}, {1126, 0.90386516}, {1888, 0.9038276}]     |\n",
      "|108   |[{103, 0.9129457}, {1888, 0.91174334}, {5503, 0.9104001}, {6108, 0.90890193}, {6098, 0.90813076}]   |\n",
      "+------+----------------------------------------------------------------------------------------------------+\n",
      "only showing top 20 rows\n",
      "\n"
     ]
    }
   ],
   "source": [
    "user_recs=ratings_model.recommendForAllUsers(5).show(truncate=False)"
   ]
  }
 ],
 "metadata": {
  "kernelspec": {
   "display_name": "Python 3 (ipykernel)",
   "language": "python",
   "name": "python3"
  },
  "language_info": {
   "codemirror_mode": {
    "name": "ipython",
    "version": 3
   },
   "file_extension": ".py",
   "mimetype": "text/x-python",
   "name": "python",
   "nbconvert_exporter": "python",
   "pygments_lexer": "ipython3",
   "version": "3.9.7"
  }
 },
 "nbformat": 4,
 "nbformat_minor": 5
}
